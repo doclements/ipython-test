{
 "cells": [
  {
   "cell_type": "code",
   "execution_count": 1,
   "metadata": {
    "collapsed": true
   },
   "outputs": [],
   "source": [
    "import pprint\n",
    "import owslib\n",
    "from owslib.wcs import WebCoverageService"
   ]
  },
  {
   "cell_type": "code",
   "execution_count": 2,
   "metadata": {
    "collapsed": false
   },
   "outputs": [
    {
     "name": "stdout",
     "output_type": "stream",
     "text": [
      "http://earthserver.pml.ac.uk/rasdaman/ows?service=WCS&request=GetCapabilities&version=2.0.0\n",
      "{'CCI_V2_monthly_Rrs_412': <owslib.coverage.wcs200.ContentMetadata object at 0x2487310>,\n",
      " 'CCI_V2_monthly_Rrs_443': <owslib.coverage.wcs200.ContentMetadata object at 0x2483e90>,\n",
      " 'CCI_V2_monthly_Rrs_490': <owslib.coverage.wcs200.ContentMetadata object at 0x2487910>,\n",
      " 'CCI_V2_monthly_Rrs_510': <owslib.coverage.wcs200.ContentMetadata object at 0x2487210>,\n",
      " 'CCI_V2_monthly_Rrs_555': <owslib.coverage.wcs200.ContentMetadata object at 0x24873d0>,\n",
      " 'CCI_V2_monthly_Rrs_670': <owslib.coverage.wcs200.ContentMetadata object at 0x2487b50>,\n",
      " 'CCI_V2_monthly_chlor_a': <owslib.coverage.wcs200.ContentMetadata object at 0x24879d0>,\n",
      " 'CCI_V2_monthly_chlor_a_bias': <owslib.coverage.wcs200.ContentMetadata object at 0x2487090>,\n",
      " 'CCI_V2_monthly_chlor_a_rmsd': <owslib.coverage.wcs200.ContentMetadata object at 0x2487390>,\n",
      " 'CCI_V2_monthly_rrs_412': <owslib.coverage.wcs200.ContentMetadata object at 0x2487790>,\n",
      " 'CCI_V2_monthly_rrs_443': <owslib.coverage.wcs200.ContentMetadata object at 0x2487450>,\n",
      " 'CCI_V2_monthly_rrs_490': <owslib.coverage.wcs200.ContentMetadata object at 0x2487290>,\n",
      " 'CCI_V2_monthly_rrs_510': <owslib.coverage.wcs200.ContentMetadata object at 0x2487810>,\n",
      " 'CCI_V2_monthly_rrs_555': <owslib.coverage.wcs200.ContentMetadata object at 0x2487950>,\n",
      " 'CCI_V2_monthly_rrs_670': <owslib.coverage.wcs200.ContentMetadata object at 0x2483f10>,\n",
      " 'CCI_V2_release_chlor_a': <owslib.coverage.wcs200.ContentMetadata object at 0x2487a50>,\n",
      " 'CCI_V2_release_chlor_a_log10_bias': <owslib.coverage.wcs200.ContentMetadata object at 0x24875d0>,\n",
      " 'CCI_V2_release_daily_chlor_a': <owslib.coverage.wcs200.ContentMetadata object at 0x2487850>,\n",
      " 'V1_monthly_CCI_chlor_a_insitu_test': <owslib.coverage.wcs200.ContentMetadata object at 0x2483ed0>,\n",
      " 'V1_monthly_CCI_silly_2d_test': <owslib.coverage.wcs200.ContentMetadata object at 0x2483d90>,\n",
      " 'V1_monthly_CCI_test_for_alex': <owslib.coverage.wcs200.ContentMetadata object at 0x2487250>,\n",
      " 'V2_daily_CCI_chlor_a_insitu_test': <owslib.coverage.wcs200.ContentMetadata object at 0x24876d0>,\n",
      " 'V2_daily_CCI_chlor_a_insitu_test_for_vlad': <owslib.coverage.wcs200.ContentMetadata object at 0x24871d0>,\n",
      " 'V2_monthly_CCI_chlor_a_insitu_test': <owslib.coverage.wcs200.ContentMetadata object at 0x2487590>,\n",
      " 'V2_monthly_cci_uncert_combined_beta_1': <owslib.coverage.wcs200.ContentMetadata object at 0x2487510>,\n",
      " 'V2_monthly_cci_uncert_combined_beta_bounds_test': <owslib.coverage.wcs200.ContentMetadata object at 0x2487a10>,\n",
      " 'V2_monthly_cci_uncert_combined_test': <owslib.coverage.wcs200.ContentMetadata object at 0x2487490>,\n",
      " 'V2_monthly_cci_uncert_combined_test_renamed': <owslib.coverage.wcs200.ContentMetadata object at 0x2487050>,\n",
      " 'arsf_insitu_test_1': <owslib.coverage.wcs200.ContentMetadata object at 0x24878d0>,\n",
      " 'arsf_ram_test': <owslib.coverage.wcs200.ContentMetadata object at 0x24874d0>,\n",
      " 'arsf_rasimport_test': <owslib.coverage.wcs200.ContentMetadata object at 0x24877d0>,\n",
      " 'arsf_test_1': <owslib.coverage.wcs200.ContentMetadata object at 0x2487b10>,\n",
      " 'arsf_test_1_lv1': <owslib.coverage.wcs200.ContentMetadata object at 0x2483e50>,\n",
      " 'arsf_test_2': <owslib.coverage.wcs200.ContentMetadata object at 0x2487610>,\n",
      " 'arsf_test_2_lv1': <owslib.coverage.wcs200.ContentMetadata object at 0x2487ad0>,\n",
      " 'arsf_test_3': <owslib.coverage.wcs200.ContentMetadata object at 0x2487650>,\n",
      " 'arsf_test_4_os': <owslib.coverage.wcs200.ContentMetadata object at 0x2487710>,\n",
      " 'arsf_test_5_os': <owslib.coverage.wcs200.ContentMetadata object at 0x2487410>,\n",
      " 'arsf_test_ram_usage': <owslib.coverage.wcs200.ContentMetadata object at 0x2487190>,\n",
      " 'arsf_test_subset_bands': <owslib.coverage.wcs200.ContentMetadata object at 0x24870d0>,\n",
      " 'arsf_test_subset_bands_2': <owslib.coverage.wcs200.ContentMetadata object at 0x2483f90>,\n",
      " 'arsf_test_subset_bands_3': <owslib.coverage.wcs200.ContentMetadata object at 0x2483f50>,\n",
      " 'arsf_test_subset_bands_777': <owslib.coverage.wcs200.ContentMetadata object at 0x2487a90>,\n",
      " 'arsf_test_subset_bands_hmm': <owslib.coverage.wcs200.ContentMetadata object at 0x2487890>,\n",
      " 'arsf_test_subset_tiff': <owslib.coverage.wcs200.ContentMetadata object at 0x2487990>,\n",
      " 'arsf_test_subset_tiff_full': <owslib.coverage.wcs200.ContentMetadata object at 0x2487350>,\n",
      " 'arsf_test_tiff': <owslib.coverage.wcs200.ContentMetadata object at 0x2487b90>,\n",
      " 'attempt_single_no_nulls': <owslib.coverage.wcs200.ContentMetadata object at 0x2487690>,\n",
      " 'attempt_vlad_avg_new': <owslib.coverage.wcs200.ContentMetadata object at 0x2487550>,\n",
      " 'attempt_vlad_single': <owslib.coverage.wcs200.ContentMetadata object at 0x2483c50>,\n",
      " 'attempt_vlad_single_nobs': <owslib.coverage.wcs200.ContentMetadata object at 0x24872d0>,\n",
      " 'large_chlor_a': <owslib.coverage.wcs200.ContentMetadata object at 0x2483fd0>,\n",
      " 'small_chlor_a': <owslib.coverage.wcs200.ContentMetadata object at 0x2487750>,\n",
      " 'small_no_nulls': <owslib.coverage.wcs200.ContentMetadata object at 0x2487110>,\n",
      " 'testing_single_slice_chlor_a': <owslib.coverage.wcs200.ContentMetadata object at 0x2487150>}\n"
     ]
    }
   ],
   "source": [
    "t = WebCoverageService('http://earthserver.pml.ac.uk/rasdaman/ows?', version='2.0.0')\n",
    "pprint.pprint( t.contents)"
   ]
  },
  {
   "cell_type": "markdown",
   "metadata": {},
   "source": [
    "* access to individual coverage\n"
   ]
  },
  {
   "cell_type": "code",
   "execution_count": 4,
   "metadata": {
    "collapsed": false
   },
   "outputs": [
    {
     "name": "stdout",
     "output_type": "stream",
     "text": [
      "['__class__',\n",
      " '__delattr__',\n",
      " '__dict__',\n",
      " '__doc__',\n",
      " '__format__',\n",
      " '__getattribute__',\n",
      " '__hash__',\n",
      " '__init__',\n",
      " '__module__',\n",
      " '__new__',\n",
      " '__reduce__',\n",
      " '__reduce_ex__',\n",
      " '__repr__',\n",
      " '__setattr__',\n",
      " '__sizeof__',\n",
      " '__str__',\n",
      " '__subclasshook__',\n",
      " '__weakref__',\n",
      " '_elem',\n",
      " '_getAxisDescriptionsProperty',\n",
      " '_getGrid',\n",
      " '_getOtherBoundingBoxes',\n",
      " '_getSupportedCRSProperty',\n",
      " '_getSupportedFormatsProperty',\n",
      " '_getTimeLimits',\n",
      " '_getTimePositions',\n",
      " '_service',\n",
      " 'abstract',\n",
      " 'axisDescriptions',\n",
      " 'boundingBox',\n",
      " 'boundingBoxWGS84',\n",
      " 'boundingboxes',\n",
      " 'crsOptions',\n",
      " 'defaulttimeposition',\n",
      " 'grid',\n",
      " 'id',\n",
      " 'keywords',\n",
      " 'styles',\n",
      " 'supportedCRS',\n",
      " 'supportedFormats',\n",
      " 'timelimits',\n",
      " 'timepositions',\n",
      " 'title']\n"
     ]
    }
   ],
   "source": [
    "pprint.pprint(dir(t.contents['CCI_V2_monthly_chlor_a']))"
   ]
  },
  {
   "cell_type": "code",
   "execution_count": 9,
   "metadata": {
    "collapsed": false
   },
   "outputs": [
    {
     "data": {
      "text/plain": [
       "[{'bbox': (-89.99998982527396,\n",
       "   -180.00003560845465,\n",
       "   89.99998982507805,\n",
       "   180.00003560789736),\n",
       "  'nativeSrs': 'http://earthserver.pml.ac.uk/def/crs-compound?1=http://earthserver.pml.ac.uk/def/crs/EPSG/0/4326&2=http://earthserver.pml.ac.uk/def/crs/OGC/0/AnsiDate'}]"
      ]
     },
     "execution_count": 9,
     "metadata": {},
     "output_type": "execute_result"
    }
   ],
   "source": [
    "t.contents['CCI_V2_monthly_chlor_a'].boundingboxes"
   ]
  },
  {
   "cell_type": "code",
   "execution_count": null,
   "metadata": {
    "collapsed": true
   },
   "outputs": [],
   "source": []
  }
 ],
 "metadata": {
  "kernelspec": {
   "display_name": "Python 2",
   "language": "python",
   "name": "python2"
  },
  "language_info": {
   "codemirror_mode": {
    "name": "ipython",
    "version": 2
   },
   "file_extension": ".py",
   "mimetype": "text/x-python",
   "name": "python",
   "nbconvert_exporter": "python",
   "pygments_lexer": "ipython2",
   "version": "2.7.5"
  }
 },
 "nbformat": 4,
 "nbformat_minor": 1
}
